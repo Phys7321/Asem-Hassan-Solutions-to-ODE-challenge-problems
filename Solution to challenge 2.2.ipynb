{
 "cells": [
  {
   "cell_type": "code",
   "execution_count": 1,
   "metadata": {},
   "outputs": [],
   "source": [
    "%matplotlib inline\n",
    "import numpy as np\n",
    "from matplotlib import pyplot "
   ]
  },
  {
   "cell_type": "code",
   "execution_count": 2,
   "metadata": {},
   "outputs": [],
   "source": [
    "def f(y):\n",
    "    f = -r*(y-Ts)\n",
    "    return f"
   ]
  },
  {
   "cell_type": "code",
   "execution_count": 3,
   "metadata": {},
   "outputs": [],
   "source": [
    "def k1(y):\n",
    "    k1 = dt*f(y)\n",
    "    return k1\n",
    "\n",
    "def k2(y):\n",
    "    k2 = dt*f(y+(K1)/2)\n",
    "    return k2\n",
    "\n",
    "def k3(y):\n",
    "    k3 = dt*f(y+(K2)/2)\n",
    "    return k3\n",
    "\n",
    "def k4(y):\n",
    "    k4 = dt*f(y+K3)\n",
    "    return k4\n",
    "\n",
    "def RK4(y):\n",
    "    ynew = y +1/6*(K1+2*K2+2*K3+K4)\n",
    "    return ynew"
   ]
  },
  {
   "cell_type": "code",
   "execution_count": 4,
   "metadata": {},
   "outputs": [
    {
     "data": {
      "text/plain": [
       "[<matplotlib.lines.Line2D at 0x7ff655792d68>]"
      ]
     },
     "execution_count": 4,
     "metadata": {},
     "output_type": "execute_result"
    },
    {
     "data": {
      "image/png": "[encoded data removed]",
      "text/plain": [
       "<Figure size 432x288 with 1 Axes>"
      ]
     },
     "metadata": {},
     "output_type": "display_data"
    }
   ],
   "source": [
    "T0=10\n",
    "Ts=83\n",
    "r=0.1\n",
    "tmax=10\n",
    "dt = 0.01\n",
    "Tfinal=[]\n",
    "dtarray=[]\n",
    "#my_color = ['#003366','#663300','#660033','#330066']\n",
    "#my_color = ['red', 'green', 'blue', 'black']\n",
    "for j in range(0,15):\n",
    "    nsteps = int(tmax/dt)    #the arrays will have different size for different time steps\n",
    "    my_time = np.linspace(dt,tmax,nsteps) \n",
    "    my_temp = np.zeros(nsteps)\n",
    "    T = T0\n",
    "    for i in range(1,nsteps):\n",
    "        K1=k1(T)\n",
    "        K2=k2(T)\n",
    "        K3=k3(T)\n",
    "        K4=k4(T)\n",
    "        T=RK4(T)\n",
    "        my_temp[i] = T\n",
    "        \n",
    "   # pyplot.plot(my_time, my_temp, color=my_color[j], ls='-', lw=3)\n",
    "    dtarray.append(dt)\n",
    "    Tfinal.append(T)\n",
    "    dt = dt/2.\n",
    "   \n",
    " #pyplot.xlabel('time');\n",
    "#pyplot.ylabel('temperature');\n",
    "#pyplot.xlim(8,10)\n",
    "#pyplot.ylim(48,58);\n",
    "\n",
    "pyplot.plot(dtarray,Tfinal)\n",
    "pyplot.xlabel('step size')\n",
    "pyplot.ylabel('T at 10 sec')"
   ]
  }
 ],
 "metadata": {
  "kernelspec": {
   "display_name": "Python 3",
   "language": "python",
   "name": "python3"
  },
  "language_info": {
   "codemirror_mode": {
    "name": "ipython",
    "version": 3
   },
   "file_extension": ".py",
   "mimetype": "text/x-python",
   "name": "python",
   "nbconvert_exporter": "python",
   "pygments_lexer": "ipython3",
   "version": "3.6.5"
  }
 },
 "nbformat": 4,
 "nbformat_minor": 2
}
