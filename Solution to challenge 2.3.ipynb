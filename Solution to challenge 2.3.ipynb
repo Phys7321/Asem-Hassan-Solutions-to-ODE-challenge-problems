{
 "cells": [
  {
   "cell_type": "markdown",
   "metadata": {},
   "source": [
    "### Exercise 4: Gravitational force \n",
    "According to Newton’s law of gravitation, the action of the\n",
    "gravitational field of the earth on a particle is given by\n",
    "$$F=\\frac{GMm}{(R+y)^2}=\\frac{gm}{(1+y/R)^2},$$ where $y$ is measured\n",
    "from the earth’s surface, $R$ is the earth’s radius, $G$ is the\n",
    "gravitational constant, $M$ is the mass of the earth, and $g=GM/R^2$.\n",
    "There is not simple analytical solution for this problem. Modify your\n",
    "code to simulate the fall of a particle from an altitude $y_0$ with zero\n",
    "initial velocity, and compute its speed when it hits the ground.\n",
    "Determine the value of $y_0$ for which this impact velocity differs by\n",
    "one percent from its value under a constant acceleration $g=9.8m/s^2$.\n",
    "Take the radius of the earth to be $6.37\\times 10^6m$.\n",
    "\n",
    "### Challenge 2.3:\n",
    "\n",
    "Modify the previous code to introduce the a gravitational force that depends on the position, and solve Exercise 4\n",
    "\n"
   ]
  },
  {
   "cell_type": "markdown",
   "metadata": {},
   "source": [
    "SOLUTION:\n",
    "\n",
    "I have solved this problem for the case with no frictional drag, adding a frictional drag term can be done easily, also I chose a large value for y0 = 30000000 m, (which is comparable to the distance to the moon) to demonstrate the difference in behavior from the constant g case, as g is approximately constant over a large range of distances due to the large radius of earth, I needed a large initial height to demonstrate any differences."
   ]
  },
  {
   "cell_type": "code",
   "execution_count": 1,
   "metadata": {},
   "outputs": [],
   "source": [
    "%matplotlib inline\n",
    "import numpy as np\n",
    "from matplotlib import pyplot"
   ]
  },
  {
   "cell_type": "code",
   "execution_count": 2,
   "metadata": {},
   "outputs": [],
   "source": [
    "class particle(object):\n",
    "    \n",
    "    def __init__(self, mass=1., y=0., v=0.):\n",
    "        self.mass = mass\n",
    "        self.y = y\n",
    "        self.v = v\n",
    "        \n",
    "    def euler(self, f, dt):\n",
    "        self.y = self.y + self.v*dt\n",
    "        self.v = self.v + f/self.mass*dt\n",
    "        \n",
    "    def euler_cromer(self, f, dt):\n",
    "        self.v = self.v + f/self.mass*dt\n",
    "        self.y = self.y + self.v*dt\n"
   ]
  },
  {
   "cell_type": "code",
   "execution_count": 3,
   "metadata": {
    "scrolled": true
   },
   "outputs": [
    {
     "data": {
      "image/png": "[encoded data removed]",
      "text/plain": [
       "<Figure size 432x288 with 1 Axes>"
      ]
     },
     "metadata": {},
     "output_type": "display_data"
    }
   ],
   "source": [
    "R = 6.37 * 10**6   # RADIUS OF EARTH\n",
    "g = 9.8            # g acceleration\n",
    "mass = 0.01        # mass of the particle\n",
    "y0 = 30000000.          # initial position\n",
    "v0 = 0.            # initial velocity\n",
    "#vt = 30.           # terminal velocity\n",
    "#k2 = g*mass/vt**2  # drag coeff.\n",
    "\n",
    "dt = 0.1           # time step\n",
    "\n",
    "gforce = g*mass    # weight\n",
    "\n",
    "y=[]\n",
    "v=[]\n",
    "t=[]\n",
    "def integrator(y0):\n",
    "    p = particle(mass, y0, v0)\n",
    "\n",
    "    y.append(y0) # since we do not know the size of the arrays, we define first a python list\n",
    "    v.append(v0) # the append method is more efficient for lists than arrays\n",
    "    t.append(0.)\n",
    "\n",
    "    while p.y > 0:                    \n",
    "        fy = -gforce/((1+p.y/R)**2)   # ADJUSTING THE GRAVITATIONAL FORCE TO BE POSITION DEPENDENT & \n",
    "                                      # WITHOUT FRICTIONAL DRAG\n",
    "        p.euler(fy, dt)\n",
    "        y.append(p.y)\n",
    "        v.append(p.v)\n",
    "        t.append(t[-1]+dt)\n",
    "\n",
    "integrator(y0)   \n",
    "t_data = np.array(t) # we convert the list into a numpy array for plotting\n",
    "y_data = np.array(y)\n",
    "v_data = np.array(v)\n",
    "\n",
    "#for i in range(0,t_data.size):\n",
    "#    print (i,t_data[i], y_data[i], v_data[i])\n",
    "pyplot.plot(t_data, v_data, color=\"#FF0000\", ls='-', lw=3)\n",
    "pyplot.xlabel('time(s)')\n",
    "pyplot.ylabel('velocity(m/s)');"
   ]
  },
  {
   "cell_type": "code",
   "execution_count": 4,
   "metadata": {},
   "outputs": [
    {
     "data": {
      "image/png": "[encoded data removed]",
      "text/plain": [
       "<Figure size 432x288 with 1 Axes>"
      ]
     },
     "metadata": {},
     "output_type": "display_data"
    }
   ],
   "source": [
    "pyplot.plot(t_data, y_data, color=\"#FF0000\", ls='-', lw=3)\n",
    "pyplot.xlabel('time(s)')\n",
    "pyplot.ylabel('position(m)');"
   ]
  },
  {
   "cell_type": "markdown",
   "metadata": {},
   "source": [
    "the differences from the constant g case can be seen in the velocity curve, where a dramatic change in acceleration occurs aroung t = 10000 sec\n",
    "\n",
    "Now turning to determining y0 where the impact velocity will be 1% different from the velocity with constant g : "
   ]
  },
  {
   "cell_type": "code",
   "execution_count": 5,
   "metadata": {},
   "outputs": [
    {
     "name": "stdout",
     "output_type": "stream",
     "text": [
      "0.09567278951920899\n",
      "0.15021661767257463\n",
      "0.1067961997106289\n",
      "0.08894323612853357\n",
      "0.08443390577909919\n",
      "0.0876563802986306\n",
      "0.09567143343072974\n",
      "0.10679508654321622\n",
      "0.04999768329829849\n",
      "0.06787556186029156\n",
      "0.0863136498532381\n",
      "0.04369606753450287\n",
      "0.06489116549725882\n",
      "0.085937042408249\n",
      "0.051453689942448484\n",
      "0.07374713641670255\n",
      "0.043494322317870614\n",
      "0.0664458040076835\n",
      "0.03944246679916508\n",
      "0.06269624346718027\n",
      "0.03826285276057807\n",
      "0.06159741115092584\n",
      "0.039245162377004775\n",
      "0.06251971086740185\n",
      "0.041885968894509934\n",
      "0.02240942646554498\n",
      "0.04581879960014438\n",
      "0.027628936354995012\n",
      "0.050770825663716955\n",
      "0.033683657889998\n",
      "0.05653502600685166\n",
      "0.04040344632727094\n",
      "0.024988887986220145\n",
      "0.04765632710915982\n",
      "0.033002745074149416\n",
      "0.018947311122458614\n",
      "0.04135964020175646\n",
      "0.027921855912866972\n",
      "0.04999118551159538\n",
      "0.03710704452867148\n",
      "0.024685831091210874\n",
      "0.04645746485731914\n",
      "0.03449723338537998\n",
      "0.02293792111141607\n",
      "0.04439528222851029\n",
      "0.03322463364495754\n",
      "0.022404908381683925\n",
      "0.043540881975351775\n",
      "0.03305244337694581\n",
      "0.022874017422239806\n",
      "0.043687655051361005\n",
      "0.03379433321472434\n",
      "0.024177111158145668\n",
      "0.04467148106146941\n",
      "0.03530171579221658\n",
      "0.026179614771643964\n",
      "0.01729445614918756\n",
      "0.03745469454211131\n",
      "0.028772589662944135\n",
      "0.02030486121235097\n",
      "0.040155503872985145\n",
      "0.03186695614621945\n",
      "0.023773435589642317\n",
      "0.015867411949173318\n",
      "0.03538921261175751\n",
      "0.02763305632018919\n",
      "0.020048624606104626\n",
      "0.03927821642988716\n",
      "0.03182777335328919\n",
      "0.02453529123381896\n",
      "0.017395266062629273\n",
      "0.03631061787587739\n",
      "0.02928437900220128\n",
      "0.022399135382317466\n",
      "0.015650233601523025\n",
      "0.034259476967227816\n",
      "0.02760789899034601\n",
      "0.02108301783713207\n",
      "0.014680861740637494\n",
      "0.03299311904635883\n",
      "0.02667473670309674\n",
      "0.020470886781010278\n",
      "0.014378150341317331\n",
      "0.032403046860540394\n",
      "0.02638283044819522\n",
      "0.02046670959310989\n",
      "0.014651718563493794\n",
      "0.032399058155840335\n",
      "0.02664716427925892\n",
      "0.02099034246547972\n",
      "0.015426002159258061\n",
      "0.03290555269563883\n",
      "0.02739636122862294\n",
      "0.02197438583104298\n",
      "0.016637349293116437\n",
      "0.011383056786284738\n",
      "0.028570064947624558\n",
      "0.02336176048094421\n",
      "0.018231775597922627\n",
      "0.01317816686429475\n",
      "0.03011690394373683\n",
      "0.025103818016594465\n",
      "0.020163209595756137\n",
      "0.015293348891936955\n",
      "0.03199289201792087\n",
      "0.027158852584964744\n",
      "0.022392107476179146\n",
      "0.017691109683188804\n",
      "0.013054361533423636\n",
      "0.029490917537397618\n",
      "0.0248843493029309\n",
      "0.02033906486868002\n",
      "0.015853717328860265\n",
      "0.011427000860293997\n",
      "0.027610351932636956\n",
      "0.02320910958622531\n",
      "0.01886393308120891\n",
      "0.014573642077493695\n",
      "0.01033709073382869\n",
      "0.026276745505525393\n",
      "0.02206171790626137\n",
      "0.01789819682386721\n",
      "0.013785141717920378\n",
      "0.029520530778418996\n",
      "0.025426671614558933\n",
      "0.021381259534245595\n",
      "0.017383346450067987\n",
      "0.01343201004810426\n",
      "0.028940859417584883\n",
      "0.02500575890111784\n",
      "0.021115459337266832\n",
      "0.017269117014496113\n",
      "0.013465910299885371\n",
      "0.00970503890180232\n",
      "135\n"
     ]
    }
   ],
   "source": [
    "# Calculating V impact when g is constant:\n",
    "vg=-1*np.sqrt(v0**2 + 2*g*(y0))\n",
    "y0=1\n",
    "while(abs((v_data[-1]-vg)/(-1*vg))>0.01):   #I DEFINED FUNCTION INTEGRATOR AND CALLED IT IN A CONDITIONAL-CONTROLLED LOOP\n",
    "                                            #THAT EXITS WHEN THE CONDITION IS SATISFIED\n",
    "    y0=y0+1\n",
    "    integrator(y0)\n",
    "    t_data = np.array(t) \n",
    "    y_data = np.array(y)\n",
    "    v_data = np.array(v)\n",
    "    vg=-1*np.sqrt(v0**2 + 2*g*y0)\n",
    "   # print(abs((v_data[-1]-vg)/(-1*vg)))\n",
    "    \n",
    "print(y0)"
   ]
  },
  {
   "cell_type": "code",
   "execution_count": 6,
   "metadata": {},
   "outputs": [
    {
     "data": {
      "text/plain": [
       "-51.93850485655555"
      ]
     },
     "execution_count": 6,
     "metadata": {},
     "output_type": "execute_result"
    }
   ],
   "source": [
    "v_data[-1]"
   ]
  },
  {
   "cell_type": "code",
   "execution_count": 7,
   "metadata": {},
   "outputs": [
    {
     "data": {
      "text/plain": [
       "-51.43928459844674"
      ]
     },
     "execution_count": 7,
     "metadata": {},
     "output_type": "execute_result"
    }
   ],
   "source": [
    "vg"
   ]
  },
  {
   "cell_type": "code",
   "execution_count": 8,
   "metadata": {},
   "outputs": [
    {
     "data": {
      "text/plain": [
       "135"
      ]
     },
     "execution_count": 8,
     "metadata": {},
     "output_type": "execute_result"
    }
   ],
   "source": [
    "y0"
   ]
  },
  {
   "cell_type": "markdown",
   "metadata": {},
   "source": [
    "This means that y0=135 m is the distance which when the particle is released from then its velocity will differ by about\n",
    "1% from its velocity in the case of constant g."
   ]
  },
  {
   "cell_type": "markdown",
   "metadata": {},
   "source": [
    "I also noticed that the result is very sensitive to choosing dt, I solved the problem with the same given dt=0.1 in the \n",
    "example in the lecture, but it seems a very small step size to integrate the motion with, as the distances in the second case is small (from 0 to 135 m)."
   ]
  }
 ],
 "metadata": {
  "kernelspec": {
   "display_name": "Python 3",
   "language": "python",
   "name": "python3"
  },
  "language_info": {
   "codemirror_mode": {
    "name": "ipython",
    "version": 3
   },
   "file_extension": ".py",
   "mimetype": "text/x-python",
   "name": "python",
   "nbconvert_exporter": "python",
   "pygments_lexer": "ipython3",
   "version": "3.6.5"
  }
 },
 "nbformat": 4,
 "nbformat_minor": 2
}
